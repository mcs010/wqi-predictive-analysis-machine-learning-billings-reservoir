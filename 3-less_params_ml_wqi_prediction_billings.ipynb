{
 "cells": [
  {
   "cell_type": "markdown",
   "metadata": {
    "id": "iv-YDy4vFd4h"
   },
   "source": [
    "#WQI prediction with Support Vector Machine regression using Billings reservoir data from CETESB\n",
    "\n"
   ]
  },
  {
   "cell_type": "code",
   "execution_count": 1,
   "metadata": {
    "colab": {
     "base_uri": "https://localhost:8080/"
    },
    "executionInfo": {
     "elapsed": 14664,
     "status": "ok",
     "timestamp": 1721685028746,
     "user": {
      "displayName": "Matheus Cardoso",
      "userId": "02084697309257755385"
     },
     "user_tz": 180
    },
    "id": "cK3zCnrZoV7B",
    "outputId": "ff0f786a-a788-47c6-d503-610ce5e953cd"
   },
   "outputs": [
    {
     "name": "stdout",
     "output_type": "stream",
     "text": [
      "Python 3.12.4\n"
     ]
    }
   ],
   "source": [
    "# Install last version of sklearn\n",
    "\n",
    "#!pip install -U scikit-learn==1.4.0\n",
    "!python -V"
   ]
  },
  {
   "cell_type": "code",
   "execution_count": 2,
   "metadata": {
    "executionInfo": {
     "elapsed": 1658,
     "status": "ok",
     "timestamp": 1721685030402,
     "user": {
      "displayName": "Matheus Cardoso",
      "userId": "02084697309257755385"
     },
     "user_tz": 180
    },
    "id": "6NPVQ7LpEwID"
   },
   "outputs": [
    {
     "name": "stderr",
     "output_type": "stream",
     "text": [
      "/usr/lib/python3/dist-packages/pytz/__init__.py:31: SyntaxWarning: invalid escape sequence '\\s'\n",
      "  match = re.match(\"^#\\s*version\\s*([0-9a-z]*)\\s*$\", line)\n"
     ]
    }
   ],
   "source": [
    "# Necessary imports for scripts\n",
    "\n",
    "import pandas as pd\n",
    "import numpy as np\n",
    "import math\n",
    "import time\n",
    "import datetime\n",
    "import json\n",
    "import matplotlib.pyplot as plt\n",
    "import matplotlib.dates as mdates\n",
    "#from sklearn.tree import DecisionTreeRegressor\n",
    "#from sklearn.ensemble import RandomForestRegressor\n",
    "#from sklearn import svm\n",
    "#from sklearn.neural_network import MLPRegressor\n",
    "from sklearn.inspection import permutation_importance\n",
    "#from sklearn.model_selection import GridSearchCV\n",
    "from sklearn.metrics import root_mean_squared_error, mean_absolute_error, mean_squared_error, r2_score\n",
    "from main_file import ml_prediction, scale_dataset, store_metrics, grid_search_optimization"
   ]
  },
  {
   "cell_type": "code",
   "execution_count": 3,
   "metadata": {
    "executionInfo": {
     "elapsed": 33,
     "status": "ok",
     "timestamp": 1721685030402,
     "user": {
      "displayName": "Matheus Cardoso",
      "userId": "02084697309257755385"
     },
     "user_tz": 180
    },
    "id": "xuvDbb_qLI2c"
   },
   "outputs": [],
   "source": [
    "# Variáveis globais\n",
    "\n",
    "svm_metrics_list = []\n",
    "rf_metrics_list = []\n",
    "dt_metrics_list = []\n",
    "mlp_metrics_list = []"
   ]
  },
  {
   "cell_type": "markdown",
   "metadata": {
    "id": "IxO0M-W-Elbl"
   },
   "source": [
    "## Dataset"
   ]
  },
  {
   "cell_type": "code",
   "execution_count": 4,
   "metadata": {
    "executionInfo": {
     "elapsed": 33,
     "status": "ok",
     "timestamp": 1721685030403,
     "user": {
      "displayName": "Matheus Cardoso",
      "userId": "02084697309257755385"
     },
     "user_tz": 180
    },
    "id": "LQNYNVqIyuLn"
   },
   "outputs": [],
   "source": [
    "# Receives dataset filepath\n",
    "\n",
    "dataset_path = \"./tabela_completa_ordenada(1).csv\""
   ]
  },
  {
   "cell_type": "code",
   "execution_count": 5,
   "metadata": {
    "colab": {
     "base_uri": "https://localhost:8080/",
     "height": 652
    },
    "executionInfo": {
     "elapsed": 33,
     "status": "ok",
     "timestamp": 1721685030403,
     "user": {
      "displayName": "Matheus Cardoso",
      "userId": "02084697309257755385"
     },
     "user_tz": 180
    },
    "id": "-pEa9NnQDl5M",
    "outputId": "3c7a5068-48cd-4225-a6e5-0792049ab8ee"
   },
   "outputs": [
    {
     "data": {
      "text/html": [
       "<div>\n",
       "<style scoped>\n",
       "    .dataframe tbody tr th:only-of-type {\n",
       "        vertical-align: middle;\n",
       "    }\n",
       "\n",
       "    .dataframe tbody tr th {\n",
       "        vertical-align: top;\n",
       "    }\n",
       "\n",
       "    .dataframe thead th {\n",
       "        text-align: right;\n",
       "    }\n",
       "</style>\n",
       "<table border=\"1\" class=\"dataframe\">\n",
       "  <thead>\n",
       "    <tr style=\"text-align: right;\">\n",
       "      <th></th>\n",
       "      <th>Código Ponto</th>\n",
       "      <th>Data Coleta</th>\n",
       "      <th>Coliformes Termotolerantes</th>\n",
       "      <th>pH</th>\n",
       "      <th>DBO (5, 20)</th>\n",
       "      <th>Nitrogênio Total</th>\n",
       "      <th>Fósforo Total</th>\n",
       "      <th>Temperatura da Água</th>\n",
       "      <th>Turbidez</th>\n",
       "      <th>Sólido Total</th>\n",
       "      <th>...</th>\n",
       "      <th>q1</th>\n",
       "      <th>q2</th>\n",
       "      <th>q3</th>\n",
       "      <th>q4</th>\n",
       "      <th>q5</th>\n",
       "      <th>q6</th>\n",
       "      <th>q7</th>\n",
       "      <th>q8</th>\n",
       "      <th>q9</th>\n",
       "      <th>WQI</th>\n",
       "    </tr>\n",
       "  </thead>\n",
       "  <tbody>\n",
       "    <tr>\n",
       "      <th>0</th>\n",
       "      <td>BILL02900</td>\n",
       "      <td>2010-01-28</td>\n",
       "      <td>70.00</td>\n",
       "      <td>7.5</td>\n",
       "      <td>4.00</td>\n",
       "      <td>1.93</td>\n",
       "      <td>0.07</td>\n",
       "      <td>25.9</td>\n",
       "      <td>5.40</td>\n",
       "      <td>112.0</td>\n",
       "      <td>...</td>\n",
       "      <td>43.643440</td>\n",
       "      <td>92.23125</td>\n",
       "      <td>61.049127</td>\n",
       "      <td>85.373277</td>\n",
       "      <td>82.065321</td>\n",
       "      <td>94</td>\n",
       "      <td>86.852790</td>\n",
       "      <td>84.694128</td>\n",
       "      <td>90.792218</td>\n",
       "      <td>76.630444</td>\n",
       "    </tr>\n",
       "    <tr>\n",
       "      <th>1</th>\n",
       "      <td>RGDE02200</td>\n",
       "      <td>2010-01-28</td>\n",
       "      <td>740.00</td>\n",
       "      <td>7.2</td>\n",
       "      <td>3.00</td>\n",
       "      <td>1.27</td>\n",
       "      <td>0.04</td>\n",
       "      <td>25.0</td>\n",
       "      <td>4.33</td>\n",
       "      <td>100.0</td>\n",
       "      <td>...</td>\n",
       "      <td>22.962714</td>\n",
       "      <td>92.37120</td>\n",
       "      <td>69.058344</td>\n",
       "      <td>90.118756</td>\n",
       "      <td>89.281641</td>\n",
       "      <td>94</td>\n",
       "      <td>89.316671</td>\n",
       "      <td>85.470000</td>\n",
       "      <td>98.386056</td>\n",
       "      <td>72.648794</td>\n",
       "    </tr>\n",
       "    <tr>\n",
       "      <th>2</th>\n",
       "      <td>BILL02100</td>\n",
       "      <td>2010-01-28</td>\n",
       "      <td>400.00</td>\n",
       "      <td>7.2</td>\n",
       "      <td>7.00</td>\n",
       "      <td>2.97</td>\n",
       "      <td>0.05</td>\n",
       "      <td>25.5</td>\n",
       "      <td>5.60</td>\n",
       "      <td>114.0</td>\n",
       "      <td>...</td>\n",
       "      <td>27.628253</td>\n",
       "      <td>92.37120</td>\n",
       "      <td>43.283735</td>\n",
       "      <td>78.436383</td>\n",
       "      <td>86.808316</td>\n",
       "      <td>94</td>\n",
       "      <td>86.401840</td>\n",
       "      <td>84.534352</td>\n",
       "      <td>75.564301</td>\n",
       "      <td>66.791144</td>\n",
       "    </tr>\n",
       "    <tr>\n",
       "      <th>3</th>\n",
       "      <td>BITQ00100</td>\n",
       "      <td>2010-01-28</td>\n",
       "      <td>9.00</td>\n",
       "      <td>8.3</td>\n",
       "      <td>5.00</td>\n",
       "      <td>1.86</td>\n",
       "      <td>0.04</td>\n",
       "      <td>26.0</td>\n",
       "      <td>21.70</td>\n",
       "      <td>122.0</td>\n",
       "      <td>...</td>\n",
       "      <td>68.032876</td>\n",
       "      <td>83.20000</td>\n",
       "      <td>53.968800</td>\n",
       "      <td>85.863952</td>\n",
       "      <td>89.281641</td>\n",
       "      <td>94</td>\n",
       "      <td>60.007098</td>\n",
       "      <td>83.808208</td>\n",
       "      <td>88.154226</td>\n",
       "      <td>77.824700</td>\n",
       "    </tr>\n",
       "    <tr>\n",
       "      <th>4</th>\n",
       "      <td>BILL02030</td>\n",
       "      <td>2010-01-28</td>\n",
       "      <td>2500.00</td>\n",
       "      <td>7.0</td>\n",
       "      <td>3.00</td>\n",
       "      <td>3.26</td>\n",
       "      <td>0.09</td>\n",
       "      <td>25.6</td>\n",
       "      <td>6.37</td>\n",
       "      <td>104.0</td>\n",
       "      <td>...</td>\n",
       "      <td>15.248005</td>\n",
       "      <td>91.54170</td>\n",
       "      <td>69.058344</td>\n",
       "      <td>76.620043</td>\n",
       "      <td>77.581471</td>\n",
       "      <td>94</td>\n",
       "      <td>84.693878</td>\n",
       "      <td>85.246192</td>\n",
       "      <td>23.743294</td>\n",
       "      <td>51.766023</td>\n",
       "    </tr>\n",
       "    <tr>\n",
       "      <th>...</th>\n",
       "      <td>...</td>\n",
       "      <td>...</td>\n",
       "      <td>...</td>\n",
       "      <td>...</td>\n",
       "      <td>...</td>\n",
       "      <td>...</td>\n",
       "      <td>...</td>\n",
       "      <td>...</td>\n",
       "      <td>...</td>\n",
       "      <td>...</td>\n",
       "      <td>...</td>\n",
       "      <td>...</td>\n",
       "      <td>...</td>\n",
       "      <td>...</td>\n",
       "      <td>...</td>\n",
       "      <td>...</td>\n",
       "      <td>...</td>\n",
       "      <td>...</td>\n",
       "      <td>...</td>\n",
       "      <td>...</td>\n",
       "      <td>...</td>\n",
       "    </tr>\n",
       "    <tr>\n",
       "      <th>602</th>\n",
       "      <td>BILL02500</td>\n",
       "      <td>2019-12-04</td>\n",
       "      <td>1.25</td>\n",
       "      <td>8.2</td>\n",
       "      <td>3.10</td>\n",
       "      <td>1.29</td>\n",
       "      <td>0.04</td>\n",
       "      <td>24.5</td>\n",
       "      <td>12.60</td>\n",
       "      <td>108.0</td>\n",
       "      <td>...</td>\n",
       "      <td>96.753515</td>\n",
       "      <td>84.80000</td>\n",
       "      <td>68.212268</td>\n",
       "      <td>89.971038</td>\n",
       "      <td>89.281641</td>\n",
       "      <td>94</td>\n",
       "      <td>72.521190</td>\n",
       "      <td>84.987568</td>\n",
       "      <td>93.327908</td>\n",
       "      <td>86.802179</td>\n",
       "    </tr>\n",
       "    <tr>\n",
       "      <th>603</th>\n",
       "      <td>BIRP00500</td>\n",
       "      <td>2019-12-04</td>\n",
       "      <td>1.25</td>\n",
       "      <td>7.7</td>\n",
       "      <td>3.00</td>\n",
       "      <td>1.06</td>\n",
       "      <td>0.01</td>\n",
       "      <td>22.6</td>\n",
       "      <td>6.46</td>\n",
       "      <td>100.0</td>\n",
       "      <td>...</td>\n",
       "      <td>96.753515</td>\n",
       "      <td>91.16845</td>\n",
       "      <td>69.058344</td>\n",
       "      <td>91.684569</td>\n",
       "      <td>97.132520</td>\n",
       "      <td>94</td>\n",
       "      <td>84.497168</td>\n",
       "      <td>85.470000</td>\n",
       "      <td>95.854388</td>\n",
       "      <td>90.115264</td>\n",
       "    </tr>\n",
       "    <tr>\n",
       "      <th>604</th>\n",
       "      <td>BILL02900</td>\n",
       "      <td>2019-12-04</td>\n",
       "      <td>1.25</td>\n",
       "      <td>8.2</td>\n",
       "      <td>3.00</td>\n",
       "      <td>1.02</td>\n",
       "      <td>0.02</td>\n",
       "      <td>22.6</td>\n",
       "      <td>6.24</td>\n",
       "      <td>100.0</td>\n",
       "      <td>...</td>\n",
       "      <td>96.753515</td>\n",
       "      <td>84.80000</td>\n",
       "      <td>69.058344</td>\n",
       "      <td>91.985878</td>\n",
       "      <td>94.441707</td>\n",
       "      <td>94</td>\n",
       "      <td>84.979094</td>\n",
       "      <td>85.470000</td>\n",
       "      <td>94.722866</td>\n",
       "      <td>88.974960</td>\n",
       "    </tr>\n",
       "    <tr>\n",
       "      <th>605</th>\n",
       "      <td>BILL02100</td>\n",
       "      <td>2019-12-04</td>\n",
       "      <td>185.00</td>\n",
       "      <td>7.4</td>\n",
       "      <td>4.30</td>\n",
       "      <td>2.54</td>\n",
       "      <td>0.13</td>\n",
       "      <td>23.1</td>\n",
       "      <td>20.70</td>\n",
       "      <td>162.0</td>\n",
       "      <td>...</td>\n",
       "      <td>34.203646</td>\n",
       "      <td>92.47180</td>\n",
       "      <td>58.832655</td>\n",
       "      <td>81.224284</td>\n",
       "      <td>69.335346</td>\n",
       "      <td>94</td>\n",
       "      <td>61.076498</td>\n",
       "      <td>79.124460</td>\n",
       "      <td>90.685941</td>\n",
       "      <td>69.644568</td>\n",
       "    </tr>\n",
       "    <tr>\n",
       "      <th>606</th>\n",
       "      <td>BITQ00100</td>\n",
       "      <td>2019-12-04</td>\n",
       "      <td>1.25</td>\n",
       "      <td>8.9</td>\n",
       "      <td>5.35</td>\n",
       "      <td>1.36</td>\n",
       "      <td>0.06</td>\n",
       "      <td>24.3</td>\n",
       "      <td>19.40</td>\n",
       "      <td>114.0</td>\n",
       "      <td>...</td>\n",
       "      <td>96.753515</td>\n",
       "      <td>50.50092</td>\n",
       "      <td>51.763809</td>\n",
       "      <td>89.455953</td>\n",
       "      <td>84.403509</td>\n",
       "      <td>94</td>\n",
       "      <td>62.579590</td>\n",
       "      <td>84.534352</td>\n",
       "      <td>79.785647</td>\n",
       "      <td>75.851259</td>\n",
       "    </tr>\n",
       "  </tbody>\n",
       "</table>\n",
       "<p>607 rows × 21 columns</p>\n",
       "</div>"
      ],
      "text/plain": [
       "    Código Ponto Data Coleta  Coliformes Termotolerantes   pH  DBO (5, 20)  \\\n",
       "0      BILL02900  2010-01-28                       70.00  7.5         4.00   \n",
       "1      RGDE02200  2010-01-28                      740.00  7.2         3.00   \n",
       "2      BILL02100  2010-01-28                      400.00  7.2         7.00   \n",
       "3      BITQ00100  2010-01-28                        9.00  8.3         5.00   \n",
       "4      BILL02030  2010-01-28                     2500.00  7.0         3.00   \n",
       "..           ...         ...                         ...  ...          ...   \n",
       "602    BILL02500  2019-12-04                        1.25  8.2         3.10   \n",
       "603    BIRP00500  2019-12-04                        1.25  7.7         3.00   \n",
       "604    BILL02900  2019-12-04                        1.25  8.2         3.00   \n",
       "605    BILL02100  2019-12-04                      185.00  7.4         4.30   \n",
       "606    BITQ00100  2019-12-04                        1.25  8.9         5.35   \n",
       "\n",
       "     Nitrogênio Total  Fósforo Total  Temperatura da Água  Turbidez  \\\n",
       "0                1.93           0.07                 25.9      5.40   \n",
       "1                1.27           0.04                 25.0      4.33   \n",
       "2                2.97           0.05                 25.5      5.60   \n",
       "3                1.86           0.04                 26.0     21.70   \n",
       "4                3.26           0.09                 25.6      6.37   \n",
       "..                ...            ...                  ...       ...   \n",
       "602              1.29           0.04                 24.5     12.60   \n",
       "603              1.06           0.01                 22.6      6.46   \n",
       "604              1.02           0.02                 22.6      6.24   \n",
       "605              2.54           0.13                 23.1     20.70   \n",
       "606              1.36           0.06                 24.3     19.40   \n",
       "\n",
       "     Sólido Total  ...         q1        q2         q3         q4         q5  \\\n",
       "0           112.0  ...  43.643440  92.23125  61.049127  85.373277  82.065321   \n",
       "1           100.0  ...  22.962714  92.37120  69.058344  90.118756  89.281641   \n",
       "2           114.0  ...  27.628253  92.37120  43.283735  78.436383  86.808316   \n",
       "3           122.0  ...  68.032876  83.20000  53.968800  85.863952  89.281641   \n",
       "4           104.0  ...  15.248005  91.54170  69.058344  76.620043  77.581471   \n",
       "..            ...  ...        ...       ...        ...        ...        ...   \n",
       "602         108.0  ...  96.753515  84.80000  68.212268  89.971038  89.281641   \n",
       "603         100.0  ...  96.753515  91.16845  69.058344  91.684569  97.132520   \n",
       "604         100.0  ...  96.753515  84.80000  69.058344  91.985878  94.441707   \n",
       "605         162.0  ...  34.203646  92.47180  58.832655  81.224284  69.335346   \n",
       "606         114.0  ...  96.753515  50.50092  51.763809  89.455953  84.403509   \n",
       "\n",
       "     q6         q7         q8         q9        WQI  \n",
       "0    94  86.852790  84.694128  90.792218  76.630444  \n",
       "1    94  89.316671  85.470000  98.386056  72.648794  \n",
       "2    94  86.401840  84.534352  75.564301  66.791144  \n",
       "3    94  60.007098  83.808208  88.154226  77.824700  \n",
       "4    94  84.693878  85.246192  23.743294  51.766023  \n",
       "..   ..        ...        ...        ...        ...  \n",
       "602  94  72.521190  84.987568  93.327908  86.802179  \n",
       "603  94  84.497168  85.470000  95.854388  90.115264  \n",
       "604  94  84.979094  85.470000  94.722866  88.974960  \n",
       "605  94  61.076498  79.124460  90.685941  69.644568  \n",
       "606  94  62.579590  84.534352  79.785647  75.851259  \n",
       "\n",
       "[607 rows x 21 columns]"
      ]
     },
     "execution_count": 5,
     "metadata": {},
     "output_type": "execute_result"
    }
   ],
   "source": [
    "# Dataset obtained after preprocessing data\n",
    "\n",
    "df = pd.read_csv(dataset_path, index_col=[0]) # Creates dataframe (matrix data table) from csv file\n",
    "df # Show dataframe data"
   ]
  },
  {
   "cell_type": "code",
   "execution_count": 6,
   "metadata": {
    "colab": {
     "base_uri": "https://localhost:8080/"
    },
    "executionInfo": {
     "elapsed": 32,
     "status": "ok",
     "timestamp": 1721685030403,
     "user": {
      "displayName": "Matheus Cardoso",
      "userId": "02084697309257755385"
     },
     "user_tz": 180
    },
    "id": "_17JYdk5qB-W",
    "outputId": "97aa09b6-1184-4dfc-a736-5ff55009a1a6"
   },
   "outputs": [
    {
     "data": {
      "text/plain": [
       "0      2010-01-28\n",
       "1      2010-01-28\n",
       "2      2010-01-28\n",
       "3      2010-01-28\n",
       "4      2010-01-28\n",
       "          ...    \n",
       "602    2019-12-04\n",
       "603    2019-12-04\n",
       "604    2019-12-04\n",
       "605    2019-12-04\n",
       "606    2019-12-04\n",
       "Name: Data Coleta, Length: 607, dtype: object"
      ]
     },
     "execution_count": 6,
     "metadata": {},
     "output_type": "execute_result"
    }
   ],
   "source": [
    "df['Data Coleta']"
   ]
  },
  {
   "cell_type": "code",
   "execution_count": 7,
   "metadata": {
    "executionInfo": {
     "elapsed": 31,
     "status": "ok",
     "timestamp": 1721685030403,
     "user": {
      "displayName": "Matheus Cardoso",
      "userId": "02084697309257755385"
     },
     "user_tz": 180
    },
    "id": "u5w0nAuu3G1q"
   },
   "outputs": [],
   "source": [
    "# Cast object to date values in 'Data Coleta' column\n",
    "\n",
    "df['Data Coleta'] = pd.to_datetime(df['Data Coleta'])"
   ]
  },
  {
   "cell_type": "code",
   "execution_count": 8,
   "metadata": {
    "colab": {
     "base_uri": "https://localhost:8080/"
    },
    "executionInfo": {
     "elapsed": 31,
     "status": "ok",
     "timestamp": 1721685030403,
     "user": {
      "displayName": "Matheus Cardoso",
      "userId": "02084697309257755385"
     },
     "user_tz": 180
    },
    "id": "M9w3PYnHI8ZL",
    "outputId": "e11e75ee-d78e-416b-c918-f74064ae41ce"
   },
   "outputs": [
    {
     "name": "stdout",
     "output_type": "stream",
     "text": [
      "<class 'pandas.core.frame.DataFrame'>\n",
      "Index: 607 entries, 0 to 606\n",
      "Data columns (total 21 columns):\n",
      " #   Column                      Non-Null Count  Dtype         \n",
      "---  ------                      --------------  -----         \n",
      " 0   Código Ponto                607 non-null    object        \n",
      " 1   Data Coleta                 607 non-null    datetime64[ns]\n",
      " 2   Coliformes Termotolerantes  607 non-null    float64       \n",
      " 3   pH                          607 non-null    float64       \n",
      " 4   DBO (5, 20)                 607 non-null    float64       \n",
      " 5   Nitrogênio Total            607 non-null    float64       \n",
      " 6   Fósforo Total               607 non-null    float64       \n",
      " 7   Temperatura da Água         607 non-null    float64       \n",
      " 8   Turbidez                    607 non-null    float64       \n",
      " 9   Sólido Total                607 non-null    float64       \n",
      " 10  Oxigênio Dissolvido         607 non-null    float64       \n",
      " 11  q1                          607 non-null    float64       \n",
      " 12  q2                          607 non-null    float64       \n",
      " 13  q3                          607 non-null    float64       \n",
      " 14  q4                          607 non-null    float64       \n",
      " 15  q5                          607 non-null    float64       \n",
      " 16  q6                          607 non-null    int64         \n",
      " 17  q7                          607 non-null    float64       \n",
      " 18  q8                          607 non-null    float64       \n",
      " 19  q9                          607 non-null    float64       \n",
      " 20  WQI                         607 non-null    float64       \n",
      "dtypes: datetime64[ns](1), float64(18), int64(1), object(1)\n",
      "memory usage: 104.3+ KB\n"
     ]
    }
   ],
   "source": [
    "# Summarized info about the complete dataset\n",
    "\n",
    "df.info()"
   ]
  },
  {
   "cell_type": "markdown",
   "metadata": {
    "id": "dX_m_-xGy6XD"
   },
   "source": [
    "## Drop Less Important WQI Parameters"
   ]
  },
  {
   "cell_type": "code",
   "execution_count": 9,
   "metadata": {
    "executionInfo": {
     "elapsed": 30,
     "status": "ok",
     "timestamp": 1721685030403,
     "user": {
      "displayName": "Matheus Cardoso",
      "userId": "02084697309257755385"
     },
     "user_tz": 180
    },
    "id": "59BpBqApI7se"
   },
   "outputs": [],
   "source": [
    "parameter_list = ['q1', 'q2', 'q3', 'q4', 'q5', 'q6', 'q7', 'q8', 'q9']\n",
    "\n",
    "def choose_parameters(*args):\n",
    "  for column in args:\n",
    "    if column in parameter_list:\n",
    "      parameter_list.remove(column)\n",
    "    df.drop(column, axis=1, inplace=True)"
   ]
  },
  {
   "cell_type": "code",
   "execution_count": 10,
   "metadata": {
    "colab": {
     "base_uri": "https://localhost:8080/"
    },
    "executionInfo": {
     "elapsed": 29,
     "status": "ok",
     "timestamp": 1721685030403,
     "user": {
      "displayName": "Matheus Cardoso",
      "userId": "02084697309257755385"
     },
     "user_tz": 180
    },
    "id": "kbma7nEeezI3",
    "outputId": "693fc2d9-92f0-4f54-fe1a-bdd20c01d1c3"
   },
   "outputs": [
    {
     "name": "stdout",
     "output_type": "stream",
     "text": [
      "<class 'pandas.core.frame.DataFrame'>\n",
      "Index: 607 entries, 0 to 606\n",
      "Data columns (total 21 columns):\n",
      " #   Column                      Non-Null Count  Dtype         \n",
      "---  ------                      --------------  -----         \n",
      " 0   Código Ponto                607 non-null    object        \n",
      " 1   Data Coleta                 607 non-null    datetime64[ns]\n",
      " 2   Coliformes Termotolerantes  607 non-null    float64       \n",
      " 3   pH                          607 non-null    float64       \n",
      " 4   DBO (5, 20)                 607 non-null    float64       \n",
      " 5   Nitrogênio Total            607 non-null    float64       \n",
      " 6   Fósforo Total               607 non-null    float64       \n",
      " 7   Temperatura da Água         607 non-null    float64       \n",
      " 8   Turbidez                    607 non-null    float64       \n",
      " 9   Sólido Total                607 non-null    float64       \n",
      " 10  Oxigênio Dissolvido         607 non-null    float64       \n",
      " 11  q1                          607 non-null    float64       \n",
      " 12  q2                          607 non-null    float64       \n",
      " 13  q3                          607 non-null    float64       \n",
      " 14  q4                          607 non-null    float64       \n",
      " 15  q5                          607 non-null    float64       \n",
      " 16  q6                          607 non-null    int64         \n",
      " 17  q7                          607 non-null    float64       \n",
      " 18  q8                          607 non-null    float64       \n",
      " 19  q9                          607 non-null    float64       \n",
      " 20  WQI                         607 non-null    float64       \n",
      "dtypes: datetime64[ns](1), float64(18), int64(1), object(1)\n",
      "memory usage: 104.3+ KB\n"
     ]
    }
   ],
   "source": [
    "#choose_parameters(\"q6\", \"q8\", \"q7\", \"q2\")\n",
    "df.info()"
   ]
  },
  {
   "cell_type": "markdown",
   "metadata": {
    "id": "97lNyGYXQSdQ"
   },
   "source": [
    "## Train-Test division"
   ]
  },
  {
   "cell_type": "code",
   "execution_count": 11,
   "metadata": {
    "colab": {
     "base_uri": "https://localhost:8080/",
     "height": 652
    },
    "executionInfo": {
     "elapsed": 28,
     "status": "ok",
     "timestamp": 1721685030403,
     "user": {
      "displayName": "Matheus Cardoso",
      "userId": "02084697309257755385"
     },
     "user_tz": 180
    },
    "id": "A7aG4awX31d6",
    "outputId": "fab3b316-06e0-4910-9a1b-2e2b5c676721"
   },
   "outputs": [
    {
     "data": {
      "text/html": [
       "<div>\n",
       "<style scoped>\n",
       "    .dataframe tbody tr th:only-of-type {\n",
       "        vertical-align: middle;\n",
       "    }\n",
       "\n",
       "    .dataframe tbody tr th {\n",
       "        vertical-align: top;\n",
       "    }\n",
       "\n",
       "    .dataframe thead th {\n",
       "        text-align: right;\n",
       "    }\n",
       "</style>\n",
       "<table border=\"1\" class=\"dataframe\">\n",
       "  <thead>\n",
       "    <tr style=\"text-align: right;\">\n",
       "      <th></th>\n",
       "      <th>Código Ponto</th>\n",
       "      <th>Data Coleta</th>\n",
       "      <th>Coliformes Termotolerantes</th>\n",
       "      <th>pH</th>\n",
       "      <th>DBO (5, 20)</th>\n",
       "      <th>Nitrogênio Total</th>\n",
       "      <th>Fósforo Total</th>\n",
       "      <th>Temperatura da Água</th>\n",
       "      <th>Turbidez</th>\n",
       "      <th>Sólido Total</th>\n",
       "      <th>...</th>\n",
       "      <th>q1</th>\n",
       "      <th>q2</th>\n",
       "      <th>q3</th>\n",
       "      <th>q4</th>\n",
       "      <th>q5</th>\n",
       "      <th>q6</th>\n",
       "      <th>q7</th>\n",
       "      <th>q8</th>\n",
       "      <th>q9</th>\n",
       "      <th>WQI</th>\n",
       "    </tr>\n",
       "  </thead>\n",
       "  <tbody>\n",
       "    <tr>\n",
       "      <th>0</th>\n",
       "      <td>BILL02900</td>\n",
       "      <td>2010-01-28</td>\n",
       "      <td>70.00</td>\n",
       "      <td>7.50</td>\n",
       "      <td>4.0</td>\n",
       "      <td>1.93</td>\n",
       "      <td>0.07</td>\n",
       "      <td>25.90</td>\n",
       "      <td>5.40</td>\n",
       "      <td>112.0</td>\n",
       "      <td>...</td>\n",
       "      <td>43.643440</td>\n",
       "      <td>92.231250</td>\n",
       "      <td>61.049127</td>\n",
       "      <td>85.373277</td>\n",
       "      <td>82.065321</td>\n",
       "      <td>94</td>\n",
       "      <td>86.852790</td>\n",
       "      <td>84.694128</td>\n",
       "      <td>90.792218</td>\n",
       "      <td>76.630444</td>\n",
       "    </tr>\n",
       "    <tr>\n",
       "      <th>1</th>\n",
       "      <td>RGDE02200</td>\n",
       "      <td>2010-01-28</td>\n",
       "      <td>740.00</td>\n",
       "      <td>7.20</td>\n",
       "      <td>3.0</td>\n",
       "      <td>1.27</td>\n",
       "      <td>0.04</td>\n",
       "      <td>25.00</td>\n",
       "      <td>4.33</td>\n",
       "      <td>100.0</td>\n",
       "      <td>...</td>\n",
       "      <td>22.962714</td>\n",
       "      <td>92.371200</td>\n",
       "      <td>69.058344</td>\n",
       "      <td>90.118756</td>\n",
       "      <td>89.281641</td>\n",
       "      <td>94</td>\n",
       "      <td>89.316671</td>\n",
       "      <td>85.470000</td>\n",
       "      <td>98.386056</td>\n",
       "      <td>72.648794</td>\n",
       "    </tr>\n",
       "    <tr>\n",
       "      <th>2</th>\n",
       "      <td>BILL02100</td>\n",
       "      <td>2010-01-28</td>\n",
       "      <td>400.00</td>\n",
       "      <td>7.20</td>\n",
       "      <td>7.0</td>\n",
       "      <td>2.97</td>\n",
       "      <td>0.05</td>\n",
       "      <td>25.50</td>\n",
       "      <td>5.60</td>\n",
       "      <td>114.0</td>\n",
       "      <td>...</td>\n",
       "      <td>27.628253</td>\n",
       "      <td>92.371200</td>\n",
       "      <td>43.283735</td>\n",
       "      <td>78.436383</td>\n",
       "      <td>86.808316</td>\n",
       "      <td>94</td>\n",
       "      <td>86.401840</td>\n",
       "      <td>84.534352</td>\n",
       "      <td>75.564301</td>\n",
       "      <td>66.791144</td>\n",
       "    </tr>\n",
       "    <tr>\n",
       "      <th>3</th>\n",
       "      <td>BITQ00100</td>\n",
       "      <td>2010-01-28</td>\n",
       "      <td>9.00</td>\n",
       "      <td>8.30</td>\n",
       "      <td>5.0</td>\n",
       "      <td>1.86</td>\n",
       "      <td>0.04</td>\n",
       "      <td>26.00</td>\n",
       "      <td>21.70</td>\n",
       "      <td>122.0</td>\n",
       "      <td>...</td>\n",
       "      <td>68.032876</td>\n",
       "      <td>83.200000</td>\n",
       "      <td>53.968800</td>\n",
       "      <td>85.863952</td>\n",
       "      <td>89.281641</td>\n",
       "      <td>94</td>\n",
       "      <td>60.007098</td>\n",
       "      <td>83.808208</td>\n",
       "      <td>88.154226</td>\n",
       "      <td>77.824700</td>\n",
       "    </tr>\n",
       "    <tr>\n",
       "      <th>4</th>\n",
       "      <td>BILL02030</td>\n",
       "      <td>2010-01-28</td>\n",
       "      <td>2500.00</td>\n",
       "      <td>7.00</td>\n",
       "      <td>3.0</td>\n",
       "      <td>3.26</td>\n",
       "      <td>0.09</td>\n",
       "      <td>25.60</td>\n",
       "      <td>6.37</td>\n",
       "      <td>104.0</td>\n",
       "      <td>...</td>\n",
       "      <td>15.248005</td>\n",
       "      <td>91.541700</td>\n",
       "      <td>69.058344</td>\n",
       "      <td>76.620043</td>\n",
       "      <td>77.581471</td>\n",
       "      <td>94</td>\n",
       "      <td>84.693878</td>\n",
       "      <td>85.246192</td>\n",
       "      <td>23.743294</td>\n",
       "      <td>51.766023</td>\n",
       "    </tr>\n",
       "    <tr>\n",
       "      <th>...</th>\n",
       "      <td>...</td>\n",
       "      <td>...</td>\n",
       "      <td>...</td>\n",
       "      <td>...</td>\n",
       "      <td>...</td>\n",
       "      <td>...</td>\n",
       "      <td>...</td>\n",
       "      <td>...</td>\n",
       "      <td>...</td>\n",
       "      <td>...</td>\n",
       "      <td>...</td>\n",
       "      <td>...</td>\n",
       "      <td>...</td>\n",
       "      <td>...</td>\n",
       "      <td>...</td>\n",
       "      <td>...</td>\n",
       "      <td>...</td>\n",
       "      <td>...</td>\n",
       "      <td>...</td>\n",
       "      <td>...</td>\n",
       "      <td>...</td>\n",
       "    </tr>\n",
       "    <tr>\n",
       "      <th>400</th>\n",
       "      <td>BILL02900</td>\n",
       "      <td>2016-12-07</td>\n",
       "      <td>1.25</td>\n",
       "      <td>9.03</td>\n",
       "      <td>3.0</td>\n",
       "      <td>1.06</td>\n",
       "      <td>0.05</td>\n",
       "      <td>24.41</td>\n",
       "      <td>33.70</td>\n",
       "      <td>114.0</td>\n",
       "      <td>...</td>\n",
       "      <td>96.753515</td>\n",
       "      <td>44.190000</td>\n",
       "      <td>69.058344</td>\n",
       "      <td>91.684569</td>\n",
       "      <td>86.808316</td>\n",
       "      <td>94</td>\n",
       "      <td>49.207121</td>\n",
       "      <td>84.534352</td>\n",
       "      <td>82.834528</td>\n",
       "      <td>76.248251</td>\n",
       "    </tr>\n",
       "    <tr>\n",
       "      <th>401</th>\n",
       "      <td>BILL02100</td>\n",
       "      <td>2016-12-07</td>\n",
       "      <td>37.50</td>\n",
       "      <td>9.85</td>\n",
       "      <td>9.0</td>\n",
       "      <td>2.04</td>\n",
       "      <td>0.27</td>\n",
       "      <td>26.23</td>\n",
       "      <td>74.20</td>\n",
       "      <td>152.0</td>\n",
       "      <td>...</td>\n",
       "      <td>50.383713</td>\n",
       "      <td>22.050000</td>\n",
       "      <td>35.355694</td>\n",
       "      <td>84.608273</td>\n",
       "      <td>46.788924</td>\n",
       "      <td>94</td>\n",
       "      <td>25.525944</td>\n",
       "      <td>80.516160</td>\n",
       "      <td>50.000000</td>\n",
       "      <td>48.119484</td>\n",
       "    </tr>\n",
       "    <tr>\n",
       "      <th>402</th>\n",
       "      <td>RGDE02900</td>\n",
       "      <td>2016-12-08</td>\n",
       "      <td>2.50</td>\n",
       "      <td>8.11</td>\n",
       "      <td>3.0</td>\n",
       "      <td>0.59</td>\n",
       "      <td>0.03</td>\n",
       "      <td>24.77</td>\n",
       "      <td>3.49</td>\n",
       "      <td>100.0</td>\n",
       "      <td>...</td>\n",
       "      <td>86.669010</td>\n",
       "      <td>86.240000</td>\n",
       "      <td>69.058344</td>\n",
       "      <td>95.286774</td>\n",
       "      <td>91.825435</td>\n",
       "      <td>94</td>\n",
       "      <td>91.311499</td>\n",
       "      <td>85.470000</td>\n",
       "      <td>93.444351</td>\n",
       "      <td>88.060215</td>\n",
       "    </tr>\n",
       "    <tr>\n",
       "      <th>403</th>\n",
       "      <td>RGDE02200</td>\n",
       "      <td>2016-12-08</td>\n",
       "      <td>55.00</td>\n",
       "      <td>9.19</td>\n",
       "      <td>5.0</td>\n",
       "      <td>0.75</td>\n",
       "      <td>0.07</td>\n",
       "      <td>26.48</td>\n",
       "      <td>6.99</td>\n",
       "      <td>100.0</td>\n",
       "      <td>...</td>\n",
       "      <td>46.184917</td>\n",
       "      <td>39.870000</td>\n",
       "      <td>53.968800</td>\n",
       "      <td>94.045319</td>\n",
       "      <td>82.065321</td>\n",
       "      <td>94</td>\n",
       "      <td>83.351169</td>\n",
       "      <td>85.470000</td>\n",
       "      <td>50.000000</td>\n",
       "      <td>62.816286</td>\n",
       "    </tr>\n",
       "    <tr>\n",
       "      <th>404</th>\n",
       "      <td>RGDE02030</td>\n",
       "      <td>2016-12-08</td>\n",
       "      <td>76.25</td>\n",
       "      <td>6.14</td>\n",
       "      <td>3.0</td>\n",
       "      <td>0.44</td>\n",
       "      <td>0.04</td>\n",
       "      <td>24.18</td>\n",
       "      <td>7.79</td>\n",
       "      <td>100.0</td>\n",
       "      <td>...</td>\n",
       "      <td>42.761178</td>\n",
       "      <td>66.858871</td>\n",
       "      <td>69.058344</td>\n",
       "      <td>96.464862</td>\n",
       "      <td>89.281641</td>\n",
       "      <td>94</td>\n",
       "      <td>81.661525</td>\n",
       "      <td>85.470000</td>\n",
       "      <td>88.255482</td>\n",
       "      <td>75.284687</td>\n",
       "    </tr>\n",
       "  </tbody>\n",
       "</table>\n",
       "<p>405 rows × 21 columns</p>\n",
       "</div>"
      ],
      "text/plain": [
       "    Código Ponto Data Coleta  Coliformes Termotolerantes    pH  DBO (5, 20)  \\\n",
       "0      BILL02900  2010-01-28                       70.00  7.50          4.0   \n",
       "1      RGDE02200  2010-01-28                      740.00  7.20          3.0   \n",
       "2      BILL02100  2010-01-28                      400.00  7.20          7.0   \n",
       "3      BITQ00100  2010-01-28                        9.00  8.30          5.0   \n",
       "4      BILL02030  2010-01-28                     2500.00  7.00          3.0   \n",
       "..           ...         ...                         ...   ...          ...   \n",
       "400    BILL02900  2016-12-07                        1.25  9.03          3.0   \n",
       "401    BILL02100  2016-12-07                       37.50  9.85          9.0   \n",
       "402    RGDE02900  2016-12-08                        2.50  8.11          3.0   \n",
       "403    RGDE02200  2016-12-08                       55.00  9.19          5.0   \n",
       "404    RGDE02030  2016-12-08                       76.25  6.14          3.0   \n",
       "\n",
       "     Nitrogênio Total  Fósforo Total  Temperatura da Água  Turbidez  \\\n",
       "0                1.93           0.07                25.90      5.40   \n",
       "1                1.27           0.04                25.00      4.33   \n",
       "2                2.97           0.05                25.50      5.60   \n",
       "3                1.86           0.04                26.00     21.70   \n",
       "4                3.26           0.09                25.60      6.37   \n",
       "..                ...            ...                  ...       ...   \n",
       "400              1.06           0.05                24.41     33.70   \n",
       "401              2.04           0.27                26.23     74.20   \n",
       "402              0.59           0.03                24.77      3.49   \n",
       "403              0.75           0.07                26.48      6.99   \n",
       "404              0.44           0.04                24.18      7.79   \n",
       "\n",
       "     Sólido Total  ...         q1         q2         q3         q4         q5  \\\n",
       "0           112.0  ...  43.643440  92.231250  61.049127  85.373277  82.065321   \n",
       "1           100.0  ...  22.962714  92.371200  69.058344  90.118756  89.281641   \n",
       "2           114.0  ...  27.628253  92.371200  43.283735  78.436383  86.808316   \n",
       "3           122.0  ...  68.032876  83.200000  53.968800  85.863952  89.281641   \n",
       "4           104.0  ...  15.248005  91.541700  69.058344  76.620043  77.581471   \n",
       "..            ...  ...        ...        ...        ...        ...        ...   \n",
       "400         114.0  ...  96.753515  44.190000  69.058344  91.684569  86.808316   \n",
       "401         152.0  ...  50.383713  22.050000  35.355694  84.608273  46.788924   \n",
       "402         100.0  ...  86.669010  86.240000  69.058344  95.286774  91.825435   \n",
       "403         100.0  ...  46.184917  39.870000  53.968800  94.045319  82.065321   \n",
       "404         100.0  ...  42.761178  66.858871  69.058344  96.464862  89.281641   \n",
       "\n",
       "     q6         q7         q8         q9        WQI  \n",
       "0    94  86.852790  84.694128  90.792218  76.630444  \n",
       "1    94  89.316671  85.470000  98.386056  72.648794  \n",
       "2    94  86.401840  84.534352  75.564301  66.791144  \n",
       "3    94  60.007098  83.808208  88.154226  77.824700  \n",
       "4    94  84.693878  85.246192  23.743294  51.766023  \n",
       "..   ..        ...        ...        ...        ...  \n",
       "400  94  49.207121  84.534352  82.834528  76.248251  \n",
       "401  94  25.525944  80.516160  50.000000  48.119484  \n",
       "402  94  91.311499  85.470000  93.444351  88.060215  \n",
       "403  94  83.351169  85.470000  50.000000  62.816286  \n",
       "404  94  81.661525  85.470000  88.255482  75.284687  \n",
       "\n",
       "[405 rows x 21 columns]"
      ]
     },
     "execution_count": 11,
     "metadata": {},
     "output_type": "execute_result"
    }
   ],
   "source": [
    "# Separate train and test sets according to period of time\n",
    "# Training -> from 2010 until 2016\n",
    "# Test -> from 2017 until 2019\n",
    "\n",
    "training = df[df['Data Coleta'] <= '2016-12-31']\n",
    "test = df[df['Data Coleta'] > '2016-12-31']\n",
    "\n",
    "training"
   ]
  },
  {
   "cell_type": "code",
   "execution_count": 12,
   "metadata": {
    "executionInfo": {
     "elapsed": 27,
     "status": "ok",
     "timestamp": 1721685030403,
     "user": {
      "displayName": "Matheus Cardoso",
      "userId": "02084697309257755385"
     },
     "user_tz": 180
    },
    "id": "0uA0CeYq1oMO"
   },
   "outputs": [],
   "source": [
    "# Set dependent variables and target variable\n",
    "\n",
    "X_train = training[parameter_list]\n",
    "X_test = test[parameter_list]\n",
    "y_train = training['WQI']\n",
    "y_test = test['WQI']"
   ]
  },
  {
   "cell_type": "code",
   "execution_count": 13,
   "metadata": {
    "colab": {
     "base_uri": "https://localhost:8080/",
     "height": 206
    },
    "executionInfo": {
     "elapsed": 26,
     "status": "ok",
     "timestamp": 1721685030403,
     "user": {
      "displayName": "Matheus Cardoso",
      "userId": "02084697309257755385"
     },
     "user_tz": 180
    },
    "id": "PTP7h2JFzdl8",
    "outputId": "73715469-fde7-4406-c9fb-460ee0c78392"
   },
   "outputs": [
    {
     "data": {
      "text/html": [
       "<div>\n",
       "<style scoped>\n",
       "    .dataframe tbody tr th:only-of-type {\n",
       "        vertical-align: middle;\n",
       "    }\n",
       "\n",
       "    .dataframe tbody tr th {\n",
       "        vertical-align: top;\n",
       "    }\n",
       "\n",
       "    .dataframe thead th {\n",
       "        text-align: right;\n",
       "    }\n",
       "</style>\n",
       "<table border=\"1\" class=\"dataframe\">\n",
       "  <thead>\n",
       "    <tr style=\"text-align: right;\">\n",
       "      <th></th>\n",
       "      <th>q1</th>\n",
       "      <th>q2</th>\n",
       "      <th>q3</th>\n",
       "      <th>q4</th>\n",
       "      <th>q5</th>\n",
       "      <th>q6</th>\n",
       "      <th>q7</th>\n",
       "      <th>q8</th>\n",
       "      <th>q9</th>\n",
       "    </tr>\n",
       "  </thead>\n",
       "  <tbody>\n",
       "    <tr>\n",
       "      <th>0</th>\n",
       "      <td>0.436434</td>\n",
       "      <td>0.922313</td>\n",
       "      <td>0.610491</td>\n",
       "      <td>0.853733</td>\n",
       "      <td>0.820653</td>\n",
       "      <td>0.94</td>\n",
       "      <td>0.868528</td>\n",
       "      <td>0.846941</td>\n",
       "      <td>0.907922</td>\n",
       "    </tr>\n",
       "    <tr>\n",
       "      <th>1</th>\n",
       "      <td>0.229627</td>\n",
       "      <td>0.923712</td>\n",
       "      <td>0.690583</td>\n",
       "      <td>0.901188</td>\n",
       "      <td>0.892816</td>\n",
       "      <td>0.94</td>\n",
       "      <td>0.893167</td>\n",
       "      <td>0.854700</td>\n",
       "      <td>0.983861</td>\n",
       "    </tr>\n",
       "    <tr>\n",
       "      <th>2</th>\n",
       "      <td>0.276283</td>\n",
       "      <td>0.923712</td>\n",
       "      <td>0.432837</td>\n",
       "      <td>0.784364</td>\n",
       "      <td>0.868083</td>\n",
       "      <td>0.94</td>\n",
       "      <td>0.864018</td>\n",
       "      <td>0.845344</td>\n",
       "      <td>0.755643</td>\n",
       "    </tr>\n",
       "    <tr>\n",
       "      <th>3</th>\n",
       "      <td>0.680329</td>\n",
       "      <td>0.832000</td>\n",
       "      <td>0.539688</td>\n",
       "      <td>0.858640</td>\n",
       "      <td>0.892816</td>\n",
       "      <td>0.94</td>\n",
       "      <td>0.600071</td>\n",
       "      <td>0.838082</td>\n",
       "      <td>0.881542</td>\n",
       "    </tr>\n",
       "    <tr>\n",
       "      <th>4</th>\n",
       "      <td>0.152480</td>\n",
       "      <td>0.915417</td>\n",
       "      <td>0.690583</td>\n",
       "      <td>0.766200</td>\n",
       "      <td>0.775815</td>\n",
       "      <td>0.94</td>\n",
       "      <td>0.846939</td>\n",
       "      <td>0.852462</td>\n",
       "      <td>0.237433</td>\n",
       "    </tr>\n",
       "  </tbody>\n",
       "</table>\n",
       "</div>"
      ],
      "text/plain": [
       "         q1        q2        q3        q4        q5    q6        q7        q8  \\\n",
       "0  0.436434  0.922313  0.610491  0.853733  0.820653  0.94  0.868528  0.846941   \n",
       "1  0.229627  0.923712  0.690583  0.901188  0.892816  0.94  0.893167  0.854700   \n",
       "2  0.276283  0.923712  0.432837  0.784364  0.868083  0.94  0.864018  0.845344   \n",
       "3  0.680329  0.832000  0.539688  0.858640  0.892816  0.94  0.600071  0.838082   \n",
       "4  0.152480  0.915417  0.690583  0.766200  0.775815  0.94  0.846939  0.852462   \n",
       "\n",
       "         q9  \n",
       "0  0.907922  \n",
       "1  0.983861  \n",
       "2  0.755643  \n",
       "3  0.881542  \n",
       "4  0.237433  "
      ]
     },
     "execution_count": 13,
     "metadata": {},
     "output_type": "execute_result"
    }
   ],
   "source": [
    "# Scale X and Y values to fit between 0 and 1\n",
    "\"\"\"\n",
    "X_train = X_train.apply(lambda x: x/100)\n",
    "X_test = X_test.apply(lambda x: x/100)\n",
    "y_train = y_train.apply(lambda x: x/100)\n",
    "y_test = y_test.apply(lambda x: x/100)\n",
    "\"\"\"\n",
    "\n",
    "X_train, X_test, y_train, y_test = scale_dataset(X_train, X_test, y_train, y_test)\n",
    "\n",
    "X_train.head()"
   ]
  },
  {
   "cell_type": "code",
   "execution_count": 14,
   "metadata": {
    "colab": {
     "base_uri": "https://localhost:8080/"
    },
    "executionInfo": {
     "elapsed": 27,
     "status": "ok",
     "timestamp": 1721685030404,
     "user": {
      "displayName": "Matheus Cardoso",
      "userId": "02084697309257755385"
     },
     "user_tz": 180
    },
    "id": "WkNR0aUnl6fW",
    "outputId": "c4209507-e96b-4117-b370-21bbfc473b5f"
   },
   "outputs": [
    {
     "data": {
      "text/plain": [
       "0    0.766304\n",
       "1    0.726488\n",
       "2    0.667911\n",
       "3    0.778247\n",
       "4    0.517660\n",
       "Name: WQI, dtype: float64"
      ]
     },
     "execution_count": 14,
     "metadata": {},
     "output_type": "execute_result"
    }
   ],
   "source": [
    "y_train.head()"
   ]
  },
  {
   "cell_type": "code",
   "execution_count": 15,
   "metadata": {
    "colab": {
     "base_uri": "https://localhost:8080/",
     "height": 206
    },
    "executionInfo": {
     "elapsed": 26,
     "status": "ok",
     "timestamp": 1721685030404,
     "user": {
      "displayName": "Matheus Cardoso",
      "userId": "02084697309257755385"
     },
     "user_tz": 180
    },
    "id": "P3A1Y3on8IZw",
    "outputId": "3d1493ee-dda7-413e-ac2b-bf8b363ab318"
   },
   "outputs": [
    {
     "data": {
      "text/html": [
       "<div>\n",
       "<style scoped>\n",
       "    .dataframe tbody tr th:only-of-type {\n",
       "        vertical-align: middle;\n",
       "    }\n",
       "\n",
       "    .dataframe tbody tr th {\n",
       "        vertical-align: top;\n",
       "    }\n",
       "\n",
       "    .dataframe thead th {\n",
       "        text-align: right;\n",
       "    }\n",
       "</style>\n",
       "<table border=\"1\" class=\"dataframe\">\n",
       "  <thead>\n",
       "    <tr style=\"text-align: right;\">\n",
       "      <th></th>\n",
       "      <th>q1</th>\n",
       "      <th>q2</th>\n",
       "      <th>q3</th>\n",
       "      <th>q4</th>\n",
       "      <th>q5</th>\n",
       "      <th>q6</th>\n",
       "      <th>q7</th>\n",
       "      <th>q8</th>\n",
       "      <th>q9</th>\n",
       "    </tr>\n",
       "  </thead>\n",
       "  <tbody>\n",
       "    <tr>\n",
       "      <th>405</th>\n",
       "      <td>0.684427</td>\n",
       "      <td>0.428400</td>\n",
       "      <td>0.690583</td>\n",
       "      <td>0.941996</td>\n",
       "      <td>0.944417</td>\n",
       "      <td>0.94</td>\n",
       "      <td>0.918670</td>\n",
       "      <td>0.829428</td>\n",
       "      <td>0.934157</td>\n",
       "    </tr>\n",
       "    <tr>\n",
       "      <th>406</th>\n",
       "      <td>0.612392</td>\n",
       "      <td>0.390600</td>\n",
       "      <td>0.481466</td>\n",
       "      <td>0.922882</td>\n",
       "      <td>0.868083</td>\n",
       "      <td>0.94</td>\n",
       "      <td>0.716713</td>\n",
       "      <td>0.749494</td>\n",
       "      <td>0.957617</td>\n",
       "    </tr>\n",
       "    <tr>\n",
       "      <th>407</th>\n",
       "      <td>0.409409</td>\n",
       "      <td>0.814400</td>\n",
       "      <td>0.353557</td>\n",
       "      <td>0.933539</td>\n",
       "      <td>0.820653</td>\n",
       "      <td>0.94</td>\n",
       "      <td>0.537945</td>\n",
       "      <td>0.730010</td>\n",
       "      <td>0.983907</td>\n",
       "    </tr>\n",
       "    <tr>\n",
       "      <th>408</th>\n",
       "      <td>0.239033</td>\n",
       "      <td>0.560114</td>\n",
       "      <td>0.290253</td>\n",
       "      <td>0.898973</td>\n",
       "      <td>0.418157</td>\n",
       "      <td>0.94</td>\n",
       "      <td>0.050000</td>\n",
       "      <td>0.766194</td>\n",
       "      <td>0.851330</td>\n",
       "    </tr>\n",
       "    <tr>\n",
       "      <th>409</th>\n",
       "      <td>0.866690</td>\n",
       "      <td>0.425700</td>\n",
       "      <td>0.390713</td>\n",
       "      <td>0.940453</td>\n",
       "      <td>0.844035</td>\n",
       "      <td>0.94</td>\n",
       "      <td>0.498492</td>\n",
       "      <td>0.774544</td>\n",
       "      <td>0.965862</td>\n",
       "    </tr>\n",
       "  </tbody>\n",
       "</table>\n",
       "</div>"
      ],
      "text/plain": [
       "           q1        q2        q3        q4        q5    q6        q7  \\\n",
       "405  0.684427  0.428400  0.690583  0.941996  0.944417  0.94  0.918670   \n",
       "406  0.612392  0.390600  0.481466  0.922882  0.868083  0.94  0.716713   \n",
       "407  0.409409  0.814400  0.353557  0.933539  0.820653  0.94  0.537945   \n",
       "408  0.239033  0.560114  0.290253  0.898973  0.418157  0.94  0.050000   \n",
       "409  0.866690  0.425700  0.390713  0.940453  0.844035  0.94  0.498492   \n",
       "\n",
       "           q8        q9  \n",
       "405  0.829428  0.934157  \n",
       "406  0.749494  0.957617  \n",
       "407  0.730010  0.983907  \n",
       "408  0.766194  0.851330  \n",
       "409  0.774544  0.965862  "
      ]
     },
     "execution_count": 15,
     "metadata": {},
     "output_type": "execute_result"
    }
   ],
   "source": [
    "X_test.head()"
   ]
  },
  {
   "cell_type": "code",
   "execution_count": 16,
   "metadata": {
    "colab": {
     "base_uri": "https://localhost:8080/"
    },
    "executionInfo": {
     "elapsed": 25,
     "status": "ok",
     "timestamp": 1721685030404,
     "user": {
      "displayName": "Matheus Cardoso",
      "userId": "02084697309257755385"
     },
     "user_tz": 180
    },
    "id": "Uw1ULrr_8MeW",
    "outputId": "bbfef338-2166-407c-c9d6-02454f65dcb6"
   },
   "outputs": [
    {
     "data": {
      "text/plain": [
       "405    0.781274\n",
       "406    0.708295\n",
       "407    0.688715\n",
       "408    0.449203\n",
       "409    0.719469\n",
       "Name: WQI, dtype: float64"
      ]
     },
     "execution_count": 16,
     "metadata": {},
     "output_type": "execute_result"
    }
   ],
   "source": [
    "y_test.head()"
   ]
  },
  {
   "cell_type": "markdown",
   "metadata": {
    "id": "2kNxNTj5CE9F"
   },
   "source": [
    "\n",
    "\n",
    "## ML regression prediction"
   ]
  },
  {
   "cell_type": "code",
   "execution_count": 17,
   "metadata": {
    "colab": {
     "base_uri": "https://localhost:8080/"
    },
    "executionInfo": {
     "elapsed": 3161113,
     "status": "ok",
     "timestamp": 1721688191963,
     "user": {
      "displayName": "Matheus Cardoso",
      "userId": "02084697309257755385"
     },
     "user_tz": 180
    },
    "id": "Bu_chNXnEc4q",
    "outputId": "e0313147-7ded-4f5e-d5dd-a73269e2f8be"
   },
   "outputs": [
    {
     "name": "stderr",
     "output_type": "stream",
     "text": [
      "/usr/lib/python3/dist-packages/pytz/__init__.py:31: SyntaxWarning: invalid escape sequence '\\s'\n",
      "  match = re.match(\"^#\\s*version\\s*([0-9a-z]*)\\s*$\", line)\n",
      "/usr/lib/python3/dist-packages/pytz/__init__.py:31: SyntaxWarning: invalid escape sequence '\\s'\n",
      "  match = re.match(\"^#\\s*version\\s*([0-9a-z]*)\\s*$\", line)\n",
      "/usr/lib/python3/dist-packages/pytz/__init__.py:31: SyntaxWarning: invalid escape sequence '\\s'\n",
      "  match = re.match(\"^#\\s*version\\s*([0-9a-z]*)\\s*$\", line)\n",
      "/usr/lib/python3/dist-packages/pytz/__init__.py:31: SyntaxWarning: invalid escape sequence '\\s'\n",
      "  match = re.match(\"^#\\s*version\\s*([0-9a-z]*)\\s*$\", line)\n",
      "/usr/lib/python3/dist-packages/pytz/__init__.py:31: SyntaxWarning: invalid escape sequence '\\s'\n",
      "  match = re.match(\"^#\\s*version\\s*([0-9a-z]*)\\s*$\", line)\n",
      "/usr/lib/python3/dist-packages/pytz/__init__.py:31: SyntaxWarning: invalid escape sequence '\\s'\n",
      "  match = re.match(\"^#\\s*version\\s*([0-9a-z]*)\\s*$\", line)\n",
      "/usr/lib/python3/dist-packages/pytz/__init__.py:31: SyntaxWarning: invalid escape sequence '\\s'\n",
      "  match = re.match(\"^#\\s*version\\s*([0-9a-z]*)\\s*$\", line)\n",
      "/usr/lib/python3/dist-packages/pytz/__init__.py:31: SyntaxWarning: invalid escape sequence '\\s'\n",
      "  match = re.match(\"^#\\s*version\\s*([0-9a-z]*)\\s*$\", line)\n",
      "/usr/lib/python3/dist-packages/pytz/__init__.py:31: SyntaxWarning: invalid escape sequence '\\s'\n",
      "  match = re.match(\"^#\\s*version\\s*([0-9a-z]*)\\s*$\", line)\n",
      "/usr/lib/python3/dist-packages/pytz/__init__.py:31: SyntaxWarning: invalid escape sequence '\\s'\n",
      "  match = re.match(\"^#\\s*version\\s*([0-9a-z]*)\\s*$\", line)\n",
      "/usr/lib/python3/dist-packages/pytz/__init__.py:31: SyntaxWarning: invalid escape sequence '\\s'\n",
      "  match = re.match(\"^#\\s*version\\s*([0-9a-z]*)\\s*$\", line)\n",
      "/usr/lib/python3/dist-packages/pytz/__init__.py:31: SyntaxWarning: invalid escape sequence '\\s'\n",
      "  match = re.match(\"^#\\s*version\\s*([0-9a-z]*)\\s*$\", line)\n"
     ]
    }
   ],
   "source": [
    "# Instanciate optimized models\n",
    "\n",
    "svm_model = ml_prediction(\"svm\", X_train, X_test, y_train, y_test)\n",
    "rf_model = ml_prediction(\"rf\", X_train, X_test, y_train, y_test)\n",
    "dt_model = ml_prediction(\"dt\", X_train, X_test, y_train, y_test)\n",
    "mlp_model = ml_prediction(\"mlp\", X_train, X_test, y_train, y_test)"
   ]
  },
  {
   "cell_type": "code",
   "execution_count": 18,
   "metadata": {
    "colab": {
     "base_uri": "https://localhost:8080/",
     "height": 489
    },
    "executionInfo": {
     "elapsed": 1235,
     "status": "ok",
     "timestamp": 1721688193189,
     "user": {
      "displayName": "Matheus Cardoso",
      "userId": "02084697309257755385"
     },
     "user_tz": 180
    },
    "id": "r2Gj_yt9D2dy",
    "outputId": "fdf7c9e1-fa92-4a44-b956-f8a02c05f43c"
   },
   "outputs": [
    {
     "data": {
      "image/png": "[encoded data removed]",
      "text/plain": [
       "<Figure size 640x480 with 1 Axes>"
      ]
     },
     "metadata": {},
     "output_type": "display_data"
    }
   ],
   "source": [
    "# Line Plot of observed values and predicted values\n",
    "\n",
    "fig, ax = plt.subplots()\n",
    "blue = ax.plot(test['Data Coleta'], y_test, 'blue', label='IQA real')\n",
    "red = ax.plot(test['Data Coleta'], svm_model[1], 'red', label='SVM - IQA predito')\n",
    "ax.format_xdata = mdates.DateFormatter('%MM:%YYYY')\n",
    "plt.xticks(rotation=45)\n",
    "ax.set_title(\"Série temporal: IQA real x IQA predito (SVM)\")\n",
    "ax.set_ylabel(\"IQA\")\n",
    "ax.legend()\n",
    "plt.show()"
   ]
  },
  {
   "cell_type": "code",
   "execution_count": 19,
   "metadata": {
    "colab": {
     "base_uri": "https://localhost:8080/",
     "height": 489
    },
    "executionInfo": {
     "elapsed": 1079,
     "status": "ok",
     "timestamp": 1721688194264,
     "user": {
      "displayName": "Matheus Cardoso",
      "userId": "02084697309257755385"
     },
     "user_tz": 180
    },
    "id": "tIIlNvO8Q3-Z",
    "outputId": "73817471-8659-43b2-daa9-a9292beb2f11"
   },
   "outputs": [
    {
     "data": {
      "image/png": "[encoded data removed]",
      "text/plain": [
       "<Figure size 640x480 with 1 Axes>"
      ]
     },
     "metadata": {},
     "output_type": "display_data"
    }
   ],
   "source": [
    "# Line Plot of observed values and predicted values\n",
    "\n",
    "fig, ax = plt.subplots()\n",
    "blue = ax.plot(test['Data Coleta'], y_test, 'blue', label='IQA real')\n",
    "green = ax.plot(test['Data Coleta'], rf_model[1], 'green', label='RF - IQA predito')\n",
    "ax.format_xdata = mdates.DateFormatter('%MM:%YYYY')\n",
    "plt.xticks(rotation=45)\n",
    "ax.set_title(\"Série temporal: IQA real x IQA predito (RF)\")\n",
    "ax.set_ylabel(\"IQA\")\n",
    "ax.legend()\n",
    "plt.show()"
   ]
  },
  {
   "cell_type": "code",
   "execution_count": 20,
   "metadata": {
    "colab": {
     "base_uri": "https://localhost:8080/",
     "height": 489
    },
    "executionInfo": {
     "elapsed": 15,
     "status": "ok",
     "timestamp": 1721688194264,
     "user": {
      "displayName": "Matheus Cardoso",
      "userId": "02084697309257755385"
     },
     "user_tz": 180
    },
    "id": "8ShM1Yr7Qc2P",
    "outputId": "b4dd9a70-58ee-4c75-e316-61f9143fcd09"
   },
   "outputs": [
    {
     "data": {
      "image/png": "[encoded data removed]",
      "text/plain": [
       "<Figure size 640x480 with 1 Axes>"
      ]
     },
     "metadata": {},
     "output_type": "display_data"
    }
   ],
   "source": [
    "# Line Plot of observed values and predicted values\n",
    "\n",
    "fig, ax = plt.subplots()\n",
    "blue = ax.plot(test['Data Coleta'], y_test, 'blue', label='IQA real')\n",
    "orange = ax.plot(test['Data Coleta'], dt_model[1], 'orange', label='DT - IQA predito')\n",
    "ax.format_xdata = mdates.DateFormatter('%MM:%YYYY')\n",
    "plt.xticks(rotation=45)\n",
    "ax.set_title(\"Série temporal: IQA real x IQA predito (DT)\")\n",
    "ax.set_ylabel(\"IQA\")\n",
    "ax.legend()\n",
    "plt.show()"
   ]
  },
  {
   "cell_type": "code",
   "execution_count": 21,
   "metadata": {
    "colab": {
     "base_uri": "https://localhost:8080/",
     "height": 489
    },
    "executionInfo": {
     "elapsed": 805,
     "status": "ok",
     "timestamp": 1721688195055,
     "user": {
      "displayName": "Matheus Cardoso",
      "userId": "02084697309257755385"
     },
     "user_tz": 180
    },
    "id": "n3KenbLeQbaj",
    "outputId": "38521144-2a2c-4b47-dc66-02becb2f9bdb"
   },
   "outputs": [
    {
     "data": {
      "image/png": "[encoded data removed]",
      "text/plain": [
       "<Figure size 640x480 with 1 Axes>"
      ]
     },
     "metadata": {},
     "output_type": "display_data"
    }
   ],
   "source": [
    "# Line Plot of observed values and predicted values\n",
    "\n",
    "fig, ax = plt.subplots()\n",
    "blue = ax.plot(test['Data Coleta'], y_test, 'blue', label='IQA real')\n",
    "black = ax.plot(test['Data Coleta'], mlp_model[1], 'black', label='MLP - IQA predito')\n",
    "ax.format_xdata = mdates.DateFormatter('%MM:%YYYY')\n",
    "plt.xticks(rotation=45)\n",
    "ax.set_title(\"Série temporal: IQA real x IQA predito (MLP)\")\n",
    "ax.set_ylabel(\"IQA\")\n",
    "ax.legend()\n",
    "plt.show()"
   ]
  },
  {
   "cell_type": "code",
   "execution_count": 22,
   "metadata": {},
   "outputs": [],
   "source": [
    "# Exportar valores esperados e valores preditos\n",
    "\n",
    "targets = pd.DataFrame({\n",
    "    'Data Coleta': test['Data Coleta'],\n",
    "    'y_test': y_test,\n",
    "    'svm_target': svm_model[1],\n",
    "    'rf_target': rf_model[1],\n",
    "    'dt_target': dt_model[1], \n",
    "    'mlp_target': mlp_model[1] \n",
    "})\n",
    "\n",
    "targets.to_csv(\"targets1.csv\")"
   ]
  },
  {
   "cell_type": "markdown",
   "metadata": {
    "id": "vGK7SE7rkG9Y"
   },
   "source": [
    "## Métricas de Avaliação"
   ]
  },
  {
   "cell_type": "code",
   "execution_count": 23,
   "metadata": {
    "executionInfo": {
     "elapsed": 5,
     "status": "ok",
     "timestamp": 1721688195055,
     "user": {
      "displayName": "Matheus Cardoso",
      "userId": "02084697309257755385"
     },
     "user_tz": 180
    },
    "id": "h9KWOQvgJ9pq"
   },
   "outputs": [],
   "source": [
    "# Store Evaluation Metrics results\n",
    "\n",
    "svm_metric_values = [np.mean(svm_model[2]), np.mean(svm_model[3]), np.mean(svm_model[4]), np.mean(svm_model[5]), np.mean(svm_model[6])]\n",
    "rf_metric_values = [np.mean(rf_model[2]), np.mean(rf_model[3]), np.mean(rf_model[4]), np.mean(rf_model[5]), np.mean(rf_model[6])]\n",
    "dt_metric_values = [np.mean(dt_model[2]), np.mean(dt_model[3]), np.mean(dt_model[4]), np.mean(dt_model[5]), np.mean(dt_model[6])]\n",
    "mlp_metric_values = [np.mean(mlp_model[2]), np.mean(mlp_model[3]), np.mean(mlp_model[4]), np.mean(mlp_model[5]), np.mean(mlp_model[6])]\n",
    "\n",
    "row_index = 0\n",
    "svm_metrics_list, rf_metrics_list, dt_metrics_list, mlp_metrics_list = store_metrics(row_index, svm_metrics_list, rf_metrics_list, dt_metrics_list, mlp_metrics_list, svm_metric_values, rf_metric_values, dt_metric_values, mlp_metric_values)"
   ]
  },
  {
   "cell_type": "markdown",
   "metadata": {
    "id": "Im4TwhsImpYJ"
   },
   "source": [
    "# Remoção pelo ranking MDI"
   ]
  },
  {
   "cell_type": "markdown",
   "metadata": {
    "id": "YZYsraWPEaB4"
   },
   "source": [
    "## Removendo Temperatura"
   ]
  },
  {
   "cell_type": "code",
   "execution_count": 24,
   "metadata": {
    "executionInfo": {
     "elapsed": 4,
     "status": "ok",
     "timestamp": 1721688195055,
     "user": {
      "displayName": "Matheus Cardoso",
      "userId": "02084697309257755385"
     },
     "user_tz": 180
    },
    "id": "whWOSCErETi7"
   },
   "outputs": [],
   "source": [
    "choose_parameters(\"q6\")\n",
    "#df.info()\n",
    "X_train = training[parameter_list]\n",
    "X_test = test[parameter_list]\n",
    "X_train, X_test, _, _ = scale_dataset(X_train, X_test, y_train, y_test)"
   ]
  },
  {
   "cell_type": "code",
   "execution_count": 25,
   "metadata": {
    "colab": {
     "base_uri": "https://localhost:8080/"
    },
    "executionInfo": {
     "elapsed": 3017772,
     "status": "ok",
     "timestamp": 1721691212823,
     "user": {
      "displayName": "Matheus Cardoso",
      "userId": "02084697309257755385"
     },
     "user_tz": 180
    },
    "id": "JnVXaE9M8cGF",
    "outputId": "cd173e13-d09a-48a7-fc2c-7e89f0c345f6"
   },
   "outputs": [],
   "source": [
    "# Instanciate optimized models\n",
    "\n",
    "svm_model_1 = ml_prediction(\"svm\", X_train, X_test, y_train, y_test)\n",
    "rf_model_1 = ml_prediction(\"rf\", X_train, X_test, y_train, y_test)\n",
    "dt_model_1 = ml_prediction(\"dt\", X_train, X_test, y_train, y_test)\n",
    "mlp_model_1 = ml_prediction(\"mlp\", X_train, X_test, y_train, y_test)"
   ]
  },
  {
   "cell_type": "code",
   "execution_count": 26,
   "metadata": {
    "executionInfo": {
     "elapsed": 12,
     "status": "ok",
     "timestamp": 1721691212823,
     "user": {
      "displayName": "Matheus Cardoso",
      "userId": "02084697309257755385"
     },
     "user_tz": 180
    },
    "id": "mhJfMjUfKUqF"
   },
   "outputs": [],
   "source": [
    "# Store Evaluation Metrics results\n",
    "\n",
    "svm_metric_values = [np.mean(svm_model_1[2]), np.mean(svm_model_1[3]), np.mean(svm_model_1[4]), np.mean(svm_model_1[5]), np.mean(svm_model_1[6])]\n",
    "rf_metric_values = [np.mean(rf_model_1[2]), np.mean(rf_model_1[3]), np.mean(rf_model_1[4]), np.mean(rf_model_1[5]), np.mean(rf_model_1[6])]\n",
    "dt_metric_values = [np.mean(dt_model_1[2]), np.mean(dt_model_1[3]), np.mean(dt_model_1[4]), np.mean(dt_model_1[5]), np.mean(dt_model_1[6])]\n",
    "mlp_metric_values = [np.mean(mlp_model_1[2]), np.mean(mlp_model_1[3]), np.mean(mlp_model_1[4]), np.mean(mlp_model_1[5]), np.mean(mlp_model_1[6])]\n",
    "\n",
    "row_index = 1\n",
    "svm_metrics_list, rf_metrics_list, dt_metrics_list, mlp_metrics_list = store_metrics(row_index, svm_metrics_list, rf_metrics_list, dt_metrics_list, mlp_metrics_list, svm_metric_values, rf_metric_values, dt_metric_values, mlp_metric_values)"
   ]
  },
  {
   "cell_type": "markdown",
   "metadata": {
    "id": "d7EQd-vqEuyl"
   },
   "source": [
    "## Removendo Temperatura e Sólidos Totais"
   ]
  },
  {
   "cell_type": "code",
   "execution_count": 27,
   "metadata": {
    "executionInfo": {
     "elapsed": 12,
     "status": "ok",
     "timestamp": 1721691212823,
     "user": {
      "displayName": "Matheus Cardoso",
      "userId": "02084697309257755385"
     },
     "user_tz": 180
    },
    "id": "tdRdRDjdE201"
   },
   "outputs": [],
   "source": [
    "choose_parameters(\"q8\")\n",
    "X_train = training[parameter_list]\n",
    "X_test = test[parameter_list]\n",
    "#df.info()\n",
    "X_train, X_test, _, _ = scale_dataset(X_train, X_test, y_train, y_test)"
   ]
  },
  {
   "cell_type": "code",
   "execution_count": 28,
   "metadata": {
    "colab": {
     "base_uri": "https://localhost:8080/"
    },
    "executionInfo": {
     "elapsed": 2991006,
     "status": "ok",
     "timestamp": 1721694203817,
     "user": {
      "displayName": "Matheus Cardoso",
      "userId": "02084697309257755385"
     },
     "user_tz": 180
    },
    "id": "-_PCTope8e0s",
    "outputId": "58c57f79-db4e-4561-f3d6-43706a1b982c"
   },
   "outputs": [
    {
     "name": "stderr",
     "output_type": "stream",
     "text": [
      "/home/matheus/.local/lib/python3.12/site-packages/sklearn/neural_network/_multilayer_perceptron.py:691: ConvergenceWarning: Stochastic Optimizer: Maximum iterations (200) reached and the optimization hasn't converged yet.\n",
      "  warnings.warn(\n"
     ]
    }
   ],
   "source": [
    "# Instanciate optimized models\n",
    "\n",
    "svm_model_2 = ml_prediction(\"svm\", X_train, X_test, y_train, y_test)\n",
    "rf_model_2 = ml_prediction(\"rf\", X_train, X_test, y_train, y_test)\n",
    "dt_model_2 = ml_prediction(\"dt\", X_train, X_test, y_train, y_test)\n",
    "mlp_model_2 = ml_prediction(\"mlp\", X_train, X_test, y_train, y_test)"
   ]
  },
  {
   "cell_type": "code",
   "execution_count": 29,
   "metadata": {
    "executionInfo": {
     "elapsed": 15,
     "status": "ok",
     "timestamp": 1721694203817,
     "user": {
      "displayName": "Matheus Cardoso",
      "userId": "02084697309257755385"
     },
     "user_tz": 180
    },
    "id": "bynTbuURKXbF"
   },
   "outputs": [],
   "source": [
    "# Store Evaluation Metrics results\n",
    "\n",
    "svm_metric_values = [np.mean(svm_model_2[2]), np.mean(svm_model_2[3]), np.mean(svm_model_2[4]), np.mean(svm_model_2[5]), np.mean(svm_model_2[6])]\n",
    "rf_metric_values = [np.mean(rf_model_2[2]), np.mean(rf_model_2[3]), np.mean(rf_model_2[4]), np.mean(rf_model_2[5]), np.mean(rf_model_2[6])]\n",
    "dt_metric_values = [np.mean(dt_model_2[2]), np.mean(dt_model_2[3]), np.mean(dt_model_2[4]), np.mean(dt_model_2[5]), np.mean(dt_model_2[6])]\n",
    "mlp_metric_values = [np.mean(mlp_model_2[2]), np.mean(mlp_model_2[3]), np.mean(mlp_model_2[4]), np.mean(mlp_model_2[5]), np.mean(mlp_model_2[6])]\n",
    "\n",
    "row_index = 2\n",
    "svm_metrics_list, rf_metrics_list, dt_metrics_list, mlp_metrics_list = store_metrics(row_index, svm_metrics_list, rf_metrics_list, dt_metrics_list, mlp_metrics_list, svm_metric_values, rf_metric_values, dt_metric_values, mlp_metric_values)"
   ]
  },
  {
   "cell_type": "markdown",
   "metadata": {
    "id": "7e6Y8QBSF6aF"
   },
   "source": [
    "## Removendo Temperatura, Sólidos Totais e Turbidez"
   ]
  },
  {
   "cell_type": "code",
   "execution_count": 30,
   "metadata": {
    "executionInfo": {
     "elapsed": 14,
     "status": "ok",
     "timestamp": 1721694203817,
     "user": {
      "displayName": "Matheus Cardoso",
      "userId": "02084697309257755385"
     },
     "user_tz": 180
    },
    "id": "lrwlV3nnGUQb"
   },
   "outputs": [],
   "source": [
    "choose_parameters(\"q7\")\n",
    "X_train = training[parameter_list]\n",
    "X_test = test[parameter_list]\n",
    "#df.info()\n",
    "X_train, X_test, _, _ = scale_dataset(X_train, X_test, y_train, y_test)"
   ]
  },
  {
   "cell_type": "code",
   "execution_count": 31,
   "metadata": {
    "colab": {
     "base_uri": "https://localhost:8080/"
    },
    "executionInfo": {
     "elapsed": 2990268,
     "status": "ok",
     "timestamp": 1721697194071,
     "user": {
      "displayName": "Matheus Cardoso",
      "userId": "02084697309257755385"
     },
     "user_tz": 180
    },
    "id": "KgHAioWi8gU9",
    "outputId": "28b962ab-017e-4286-9793-3cd888453560"
   },
   "outputs": [],
   "source": [
    "# Instanciate optimized models\n",
    "\n",
    "svm_model_3 = ml_prediction(\"svm\", X_train, X_test, y_train, y_test)\n",
    "rf_model_3 = ml_prediction(\"rf\", X_train, X_test, y_train, y_test)\n",
    "dt_model_3 = ml_prediction(\"dt\", X_train, X_test, y_train, y_test)\n",
    "mlp_model_3 = ml_prediction(\"mlp\", X_train, X_test, y_train, y_test)"
   ]
  },
  {
   "cell_type": "code",
   "execution_count": 32,
   "metadata": {
    "executionInfo": {
     "elapsed": 11,
     "status": "ok",
     "timestamp": 1721697194071,
     "user": {
      "displayName": "Matheus Cardoso",
      "userId": "02084697309257755385"
     },
     "user_tz": 180
    },
    "id": "9330lHLAMX1B"
   },
   "outputs": [],
   "source": [
    "# Store Evaluation Metrics results\n",
    "\n",
    "svm_metric_values = [np.mean(svm_model_3[2]), np.mean(svm_model_3[3]), np.mean(svm_model_3[4]), np.mean(svm_model_3[5]), np.mean(svm_model_3[6])]\n",
    "rf_metric_values = [np.mean(rf_model_3[2]), np.mean(rf_model_3[3]), np.mean(rf_model_3[4]), np.mean(rf_model_3[5]), np.mean(rf_model_3[6])]\n",
    "dt_metric_values = [np.mean(dt_model_3[2]), np.mean(dt_model_3[3]), np.mean(dt_model_3[4]), np.mean(dt_model_3[5]), np.mean(dt_model_3[6])]\n",
    "mlp_metric_values = [np.mean(mlp_model_3[2]), np.mean(mlp_model_3[3]), np.mean(mlp_model_3[4]), np.mean(mlp_model_3[5]), np.mean(mlp_model_3[6])]\n",
    "\n",
    "row_index = 3\n",
    "svm_metrics_list, rf_metrics_list, dt_metrics_list, mlp_metrics_list = store_metrics(row_index, svm_metrics_list, rf_metrics_list, dt_metrics_list, mlp_metrics_list, svm_metric_values, rf_metric_values, dt_metric_values, mlp_metric_values)"
   ]
  },
  {
   "cell_type": "markdown",
   "metadata": {
    "id": "CYWS0ZTlp589"
   },
   "source": [
    "## Removendo Temperatura, Sólidos Totais, Turbidez e pH"
   ]
  },
  {
   "cell_type": "code",
   "execution_count": 33,
   "metadata": {
    "executionInfo": {
     "elapsed": 11,
     "status": "ok",
     "timestamp": 1721697194071,
     "user": {
      "displayName": "Matheus Cardoso",
      "userId": "02084697309257755385"
     },
     "user_tz": 180
    },
    "id": "3t6j3rB9p_ml"
   },
   "outputs": [],
   "source": [
    "choose_parameters(\"q2\")\n",
    "X_train = training[parameter_list]\n",
    "X_test = test[parameter_list]\n",
    "#df.info()\n",
    "X_train, X_test, _, _ = scale_dataset(X_train, X_test, y_train, y_test)"
   ]
  },
  {
   "cell_type": "code",
   "execution_count": 34,
   "metadata": {
    "colab": {
     "base_uri": "https://localhost:8080/"
    },
    "executionInfo": {
     "elapsed": 2941275,
     "status": "ok",
     "timestamp": 1721700135335,
     "user": {
      "displayName": "Matheus Cardoso",
      "userId": "02084697309257755385"
     },
     "user_tz": 180
    },
    "id": "QFWRjsvF8iKF",
    "outputId": "7e92b0df-d753-4de6-bff2-02944fa289bf"
   },
   "outputs": [],
   "source": [
    "# Instanciate optimized models\n",
    "\n",
    "svm_model_4 = ml_prediction(\"svm\", X_train, X_test, y_train, y_test)\n",
    "rf_model_4 = ml_prediction(\"rf\", X_train, X_test, y_train, y_test)\n",
    "dt_model_4 = ml_prediction(\"dt\", X_train, X_test, y_train, y_test)\n",
    "mlp_model_4 = ml_prediction(\"mlp\", X_train, X_test, y_train, y_test)"
   ]
  },
  {
   "cell_type": "code",
   "execution_count": 35,
   "metadata": {
    "executionInfo": {
     "elapsed": 11,
     "status": "ok",
     "timestamp": 1721700135336,
     "user": {
      "displayName": "Matheus Cardoso",
      "userId": "02084697309257755385"
     },
     "user_tz": 180
    },
    "id": "bVmTuFkmMmex"
   },
   "outputs": [],
   "source": [
    "# Store Evaluation Metrics results\n",
    "\n",
    "svm_metric_values = [np.mean(svm_model_4[2]), np.mean(svm_model_4[3]), np.mean(svm_model_4[4]), np.mean(svm_model_4[5]), np.mean(svm_model_4[6])]\n",
    "rf_metric_values = [np.mean(rf_model_4[2]), np.mean(rf_model_4[3]), np.mean(rf_model_4[4]), np.mean(rf_model_4[5]), np.mean(rf_model_4[6])]\n",
    "dt_metric_values = [np.mean(dt_model_4[2]), np.mean(dt_model_4[3]), np.mean(dt_model_4[4]), np.mean(dt_model_4[5]), np.mean(dt_model_4[6])]\n",
    "mlp_metric_values = [np.mean(mlp_model_4[2]), np.mean(mlp_model_4[3]), np.mean(mlp_model_4[4]), np.mean(mlp_model_4[5]), np.mean(mlp_model_4[6])]\n",
    "\n",
    "row_index = 4\n",
    "svm_metrics_list, rf_metrics_list, dt_metrics_list, mlp_metrics_list = store_metrics(row_index, svm_metrics_list, rf_metrics_list, dt_metrics_list, mlp_metrics_list, svm_metric_values, rf_metric_values, dt_metric_values, mlp_metric_values)"
   ]
  },
  {
   "cell_type": "markdown",
   "metadata": {
    "id": "dha00KTPuRvY"
   },
   "source": [
    "## Removendo Temperatura, Sólidos Totais, Turbidez, pH e DBO"
   ]
  },
  {
   "cell_type": "code",
   "execution_count": 36,
   "metadata": {
    "executionInfo": {
     "elapsed": 11,
     "status": "ok",
     "timestamp": 1721700135336,
     "user": {
      "displayName": "Matheus Cardoso",
      "userId": "02084697309257755385"
     },
     "user_tz": 180
    },
    "id": "P06l-7wBvSP5"
   },
   "outputs": [],
   "source": [
    "choose_parameters(\"q3\")\n",
    "X_train = training[parameter_list]\n",
    "X_test = test[parameter_list]\n",
    "#df.info()\n",
    "X_train, X_test, _, _ = scale_dataset(X_train, X_test, y_train, y_test)"
   ]
  },
  {
   "cell_type": "code",
   "execution_count": 37,
   "metadata": {
    "colab": {
     "base_uri": "https://localhost:8080/"
    },
    "id": "PuLR6NG08jyh",
    "outputId": "9d69b39c-7d66-459d-b862-29f7c4c5bb9d"
   },
   "outputs": [],
   "source": [
    "# Instanciate optimized models\n",
    "\n",
    "svm_model_5 = ml_prediction(\"svm\", X_train, X_test, y_train, y_test)\n",
    "rf_model_5 = ml_prediction(\"rf\", X_train, X_test, y_train, y_test)\n",
    "dt_model_5 = ml_prediction(\"dt\", X_train, X_test, y_train, y_test)\n",
    "mlp_model_5 = ml_prediction(\"mlp\", X_train, X_test, y_train, y_test)"
   ]
  },
  {
   "cell_type": "code",
   "execution_count": 38,
   "metadata": {
    "id": "A9yEoucNMp8l"
   },
   "outputs": [],
   "source": [
    "# Store Evaluation Metrics results\n",
    "\n",
    "svm_metric_values = [np.mean(svm_model_5[2]), np.mean(svm_model_5[3]), np.mean(svm_model_5[4]), np.mean(svm_model_5[5]), np.mean(svm_model_5[6])]\n",
    "rf_metric_values = [np.mean(rf_model_5[2]), np.mean(rf_model_5[3]), np.mean(rf_model_5[4]), np.mean(rf_model_5[5]), np.mean(rf_model_5[6])]\n",
    "dt_metric_values = [np.mean(dt_model_5[2]), np.mean(dt_model_5[3]), np.mean(dt_model_5[4]), np.mean(dt_model_5[5]), np.mean(dt_model_5[6])]\n",
    "mlp_metric_values = [np.mean(mlp_model_5[2]), np.mean(mlp_model_5[3]), np.mean(mlp_model_5[4]), np.mean(mlp_model_5[5]), np.mean(mlp_model_5[6])]\n",
    "\n",
    "row_index = 5\n",
    "svm_metrics_list, rf_metrics_list, dt_metrics_list, mlp_metrics_list = store_metrics(row_index, svm_metrics_list, rf_metrics_list, dt_metrics_list, mlp_metrics_list, svm_metric_values, rf_metric_values, dt_metric_values, mlp_metric_values)"
   ]
  },
  {
   "cell_type": "markdown",
   "metadata": {
    "id": "Z8uSmohyxRXG"
   },
   "source": [
    "## Removendo Temperatura, Sólidos Totais, Turbidez, pH, DBO e Nitrogênio Total"
   ]
  },
  {
   "cell_type": "code",
   "execution_count": 39,
   "metadata": {
    "id": "N8YmyfMTxWcJ"
   },
   "outputs": [],
   "source": [
    "choose_parameters(\"q4\")\n",
    "X_train = training[parameter_list]\n",
    "X_test = test[parameter_list]\n",
    "#df.info()\n",
    "X_train, X_test, _, _ = scale_dataset(X_train, X_test, y_train, y_test)"
   ]
  },
  {
   "cell_type": "code",
   "execution_count": 40,
   "metadata": {
    "id": "atLkX6HS8mFi"
   },
   "outputs": [],
   "source": [
    "# Instanciate optimized models\n",
    "\n",
    "svm_model_6 = ml_prediction(\"svm\", X_train, X_test, y_train, y_test)\n",
    "rf_model_6 = ml_prediction(\"rf\", X_train, X_test, y_train, y_test)\n",
    "dt_model_6 = ml_prediction(\"dt\", X_train, X_test, y_train, y_test)\n",
    "mlp_model_6 = ml_prediction(\"mlp\", X_train, X_test, y_train, y_test)"
   ]
  },
  {
   "cell_type": "code",
   "execution_count": 41,
   "metadata": {
    "id": "XI6KsB5YM7xV"
   },
   "outputs": [],
   "source": [
    "# Store Evaluation Metrics results\n",
    "\n",
    "svm_metric_values = [np.mean(svm_model_6[2]), np.mean(svm_model_6[3]), np.mean(svm_model_6[4]), np.mean(svm_model_6[5]), np.mean(svm_model_6[6])]\n",
    "rf_metric_values = [np.mean(rf_model_6[2]), np.mean(rf_model_6[3]), np.mean(rf_model_6[4]), np.mean(rf_model_6[5]), np.mean(rf_model_6[6])]\n",
    "dt_metric_values = [np.mean(dt_model_6[2]), np.mean(dt_model_6[3]), np.mean(dt_model_6[4]), np.mean(dt_model_6[5]), np.mean(dt_model_6[6])]\n",
    "mlp_metric_values = [np.mean(mlp_model_6[2]), np.mean(mlp_model_6[3]), np.mean(mlp_model_6[4]), np.mean(mlp_model_6[5]), np.mean(mlp_model_6[6])]\n",
    "\n",
    "row_index = 6\n",
    "svm_metrics_list, rf_metrics_list, dt_metrics_list, mlp_metrics_list = store_metrics(row_index, svm_metrics_list, rf_metrics_list, dt_metrics_list, mlp_metrics_list, svm_metric_values, rf_metric_values, dt_metric_values, mlp_metric_values)"
   ]
  },
  {
   "cell_type": "code",
   "execution_count": 42,
   "metadata": {
    "id": "KBy5sHcExowG"
   },
   "outputs": [
    {
     "data": {
      "image/png": "[encoded data removed]",
      "text/plain": [
       "<Figure size 640x480 with 4 Axes>"
      ]
     },
     "metadata": {},
     "output_type": "display_data"
    }
   ],
   "source": [
    "# Plot 3 parameters results\n",
    "\n",
    "# making subplots\n",
    "fig, ax = plt.subplots(2, 2)\n",
    "\n",
    "# set data with subplots and plot\n",
    "ax[0, 0].plot(test['Data Coleta'], y_test, 'black', label='IQA real')\n",
    "ax[0, 0].plot(test['Data Coleta'], svm_model_6[1], 'orange', label='IQA predito (SVM)')\n",
    "\n",
    "ax[0, 1].plot(test['Data Coleta'], y_test, 'black', label='IQA real')\n",
    "ax[0, 1].plot(test['Data Coleta'], rf_model_6[1], 'red', label='IQA predito (RF)')\n",
    "\n",
    "ax[1, 0].plot(test['Data Coleta'], y_test, 'black', label='IQA real')\n",
    "ax[1, 0].plot(test['Data Coleta'], dt_model_6[1], 'purple', label='IQA predito (DT)')\n",
    "\n",
    "ax[1, 1].plot(test['Data Coleta'], y_test, 'black', label='IQA real')\n",
    "ax[1, 1].plot(test['Data Coleta'], svm_model_6[1], 'blue', label='IQA predito (MLP)')\n",
    "\n",
    "# set the title to subplots\n",
    "ax[0, 0].set_title(\"IQA observado X IQA predito (SVM)\")\n",
    "ax[0, 1].set_title(\"IQA observado X IQA predito (RF)\")\n",
    "ax[1, 0].set_title(\"IQA observado X IQA predito (DT)\")\n",
    "ax[1, 1].set_title(\"IQA observado X IQA predito (MLP)\")\n",
    "\n",
    "# set spacing\n",
    "fig.tight_layout()\n",
    "plt.subplots_adjust(wspace=0.5, hspace=0.5)\n",
    "plt.show()"
   ]
  },
  {
   "cell_type": "code",
   "execution_count": 43,
   "metadata": {},
   "outputs": [],
   "source": [
    "# Save all metrics results\n",
    "\n",
    "metrics_results = {'SVM': svm_metrics_list, 'RF': rf_metrics_list, 'DT': dt_metrics_list, 'MLP': mlp_metrics_list}\n",
    "\n",
    "with open(\"metrics1.json\", \"w\") as file:\n",
    "    file.write(json.dumps(metrics_results))"
   ]
  },
  {
   "cell_type": "code",
   "execution_count": 44,
   "metadata": {},
   "outputs": [],
   "source": [
    "# Save targets for 3 parameters\n",
    "targets = pd.DataFrame({\n",
    "    'Data Coleta': test['Data Coleta'],\n",
    "    'y_test': y_test,\n",
    "    'svm_target': svm_model_6[1],\n",
    "    'rf_target': rf_model_6[1],\n",
    "    'dt_target': dt_model_6[1], \n",
    "    'mlp_target': mlp_model_6[1] \n",
    "})\n",
    "\n",
    "targets.to_csv(\"3params_targets1.csv\")"
   ]
  }
 ],
 "metadata": {
  "colab": {
   "authorship_tag": "ABX9TyO1GQ+vyMAk9fCUZg7qJNuA",
   "provenance": [
    {
     "file_id": "132ydNSXPGkSXuFg5fnq3yWSOYJKwcArg",
     "timestamp": 1721337123885
    },
    {
     "file_id": "1-qX4dq5Yh6wavBqIem17B-KNvjZFd2kh",
     "timestamp": 1721162910827
    },
    {
     "file_id": "1m0PM9LWVOVAyreD3NwZLr1HZKio3aGUs",
     "timestamp": 1718485964563
    },
    {
     "file_id": "1qGJVAunCkScXa4RkhS6BAwL760ArmjXA",
     "timestamp": 1718215961225
    },
    {
     "file_id": "1xOuUzH9vMho_zKYmGcSeC2ccIHdLqC6g",
     "timestamp": 1717697916135
    },
    {
     "file_id": "1kMaEoNi4fQm_2jziRp9Uu1dcjvh2t5H6",
     "timestamp": 1714436164163
    },
    {
     "file_id": "1CM4phJVIBsueHGaKS_aFPOyY5UgVCM37",
     "timestamp": 1713195871658
    }
   ]
  },
  "kernelspec": {
   "display_name": "Python 3 (ipykernel)",
   "language": "python",
   "name": "python3"
  },
  "language_info": {
   "codemirror_mode": {
    "name": "ipython",
    "version": 3
   },
   "file_extension": ".py",
   "mimetype": "text/x-python",
   "name": "python",
   "nbconvert_exporter": "python",
   "pygments_lexer": "ipython3",
   "version": "3.12.4"
  }
 },
 "nbformat": 4,
 "nbformat_minor": 4
}
